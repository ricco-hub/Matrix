{
 "cells": [
  {
   "cell_type": "code",
   "execution_count": 11,
   "metadata": {},
   "outputs": [
    {
     "name": "stdout",
     "output_type": "stream",
     "text": [
      "[ 9.03895649e+00  8.16756745e+00  7.24510734e+00  6.47713227e+00\n",
      " -1.44506847e-15  6.47787817e-01  9.09637909e-01  4.82417957e+00\n",
      "  2.88697467e+00  3.12672345e+00  3.67593302e+00]\n",
      "0.6477878165513257\n",
      "[[ 0.08026741]\n",
      " [ 0.06768399]\n",
      " [ 0.1195894 ]\n",
      " [ 0.1102256 ]\n",
      " [ 0.14271204]\n",
      " [ 0.14826753]\n",
      " [ 0.16381916]\n",
      " [ 0.14165604]\n",
      " [ 0.19216823]\n",
      " [-0.30381072]\n",
      " [-0.86257869]]\n"
     ]
    }
   ],
   "source": [
    "import numpy as np\n",
    "import matplotlib.pyplot as plt\n",
    "import scipy.linalg as la\n",
    "\n",
    "A = np.array([[8,-1,-1,-1,-1,-1,-1,-1,0,-1,0],[-1,6,-1,-1,0,0,-1,0,-1,-1,0],[-1,-1,4,-1,-1,0,0,0,0,0,0,],[-1,-1,-1,7,-1,-1,0,-1,0,0,0],[-1,0,-1,-1,6,-1,-1,-1,0,0,0],[-1,0,0,-1,-1,4,-1,0,0,0,0],[-1,-1,0,-1,-1,-1,4,0,0,0,0],[-1,0,0,-1,-1,0,0,3,0,0,0],[0,-1,0,0,0,0,0,0,1,0,0],[-1,-1,0,0,0,0,0,0,0,3,-1],[0,0,0,0,0,0,0,0,0,-1,1]])\n",
    "eigvals, eigvecs = la.eig(A)\n",
    "eigvals = eigvals.real\n",
    "print(eigvals)\n",
    "\n",
    "lambda2 = eigvals[5]\n",
    "print(lambda2)\n",
    "\n",
    "v2 = eigvecs[:,5].reshape(11,1)\n",
    "print(v2)"
   ]
  }
 ],
 "metadata": {
  "kernelspec": {
   "display_name": "Python 3",
   "language": "python",
   "name": "python3"
  },
  "language_info": {
   "codemirror_mode": {
    "name": "ipython",
    "version": 3
   },
   "file_extension": ".py",
   "mimetype": "text/x-python",
   "name": "python",
   "nbconvert_exporter": "python",
   "pygments_lexer": "ipython3",
   "version": "3.8.3"
  }
 },
 "nbformat": 4,
 "nbformat_minor": 4
}
